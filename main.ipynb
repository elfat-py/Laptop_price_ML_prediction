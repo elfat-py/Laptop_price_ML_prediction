{
 "cells": [
  {
   "cell_type": "code",
   "execution_count": 1,
   "metadata": {
    "ExecuteTime": {
     "end_time": "2023-11-20T09:25:01.380368800Z",
     "start_time": "2023-11-20T09:25:01.147751800Z"
    }
   },
   "outputs": [],
   "source": [
    "import os.path\n",
    "import zipfile\n",
    "\n",
    "UNEXTRACT_DATA = \"data/laptopPrices.zip\"\n",
    "EXTRACTION_FOLDER = \"data/extractedData\"\n",
    "\n",
    "def fetch_data(extraction_dir, unextract_data):\n",
    "    try:\n",
    "        with zipfile.ZipFile(unextract_data, 'r' ) as zip_ref:\n",
    "            zip_ref.extractall(extraction_dir)\n",
    "    except Exception as e:\n",
    "        print(f\"An error has occurred: {str(e)}\")\n",
    "\n",
    "fetch_data(EXTRACTION_FOLDER, UNEXTRACT_DATA)\n"
   ]
  },
  {
   "cell_type": "code",
   "execution_count": 2,
   "metadata": {
    "ExecuteTime": {
     "end_time": "2023-11-20T09:25:05.973218Z",
     "start_time": "2023-11-20T09:25:01.199089200Z"
    }
   },
   "outputs": [
    {
     "data": {
      "text/plain": "  Manufacturer       Model Name   Category Screen Size  \\\n0        Apple      MacBook Pro  Ultrabook       13.3\"   \n1        Apple      Macbook Air  Ultrabook       13.3\"   \n2           HP           250 G6   Notebook       15.6\"   \n3        Apple      MacBook Pro  Ultrabook       15.4\"   \n4        Apple      MacBook Pro  Ultrabook       13.3\"   \n5         Acer         Aspire 3   Notebook       15.6\"   \n6        Apple      MacBook Pro  Ultrabook       15.4\"   \n7        Apple      Macbook Air  Ultrabook       13.3\"   \n8         Asus  ZenBook UX430UN  Ultrabook       14.0\"   \n9         Acer          Swift 3  Ultrabook       14.0\"   \n\n                               Screen                         CPU   RAM  \\\n0  IPS Panel Retina Display 2560x1600        Intel Core i5 2.3GHz   8GB   \n1                            1440x900        Intel Core i5 1.8GHz   8GB   \n2                   Full HD 1920x1080  Intel Core i5 7200U 2.5GHz   8GB   \n3  IPS Panel Retina Display 2880x1800        Intel Core i7 2.7GHz  16GB   \n4  IPS Panel Retina Display 2560x1600        Intel Core i5 3.1GHz   8GB   \n5                            1366x768     AMD A9-Series 9420 3GHz   4GB   \n6  IPS Panel Retina Display 2880x1800        Intel Core i7 2.2GHz  16GB   \n7                            1440x900        Intel Core i5 1.8GHz   8GB   \n8                   Full HD 1920x1080  Intel Core i7 8550U 1.8GHz  16GB   \n9         IPS Panel Full HD 1920x1080  Intel Core i5 8250U 1.6GHz   8GB   \n\n               Storage                           GPU Operating System  \\\n0            128GB SSD  Intel Iris Plus Graphics 640            macOS   \n1  128GB Flash Storage        Intel HD Graphics 6000            macOS   \n2            256GB SSD         Intel HD Graphics 620            No OS   \n3            512GB SSD            AMD Radeon Pro 455            macOS   \n4            256GB SSD  Intel Iris Plus Graphics 650            macOS   \n5            500GB HDD                 AMD Radeon R5          Windows   \n6  256GB Flash Storage       Intel Iris Pro Graphics           Mac OS   \n7  256GB Flash Storage        Intel HD Graphics 6000            macOS   \n8            512GB SSD          Nvidia GeForce MX150          Windows   \n9            256GB SSD        Intel UHD Graphics 620          Windows   \n\n  Operating System Version  Weight        Price  \n0                      NaN  1.37kg  11912523.48  \n1                      NaN  1.34kg   7993374.48  \n2                      NaN  1.86kg   5112900.00  \n3                      NaN  1.83kg  22563005.40  \n4                      NaN  1.37kg  16037611.20  \n5                       10   2.1kg   3556800.00  \n6                        X  2.04kg  19028613.24  \n7                      NaN  1.34kg  10303160.40  \n8                       10   1.3kg  13293540.00  \n9                       10   1.6kg   6846840.00  ",
      "text/html": "<div>\n<style scoped>\n    .dataframe tbody tr th:only-of-type {\n        vertical-align: middle;\n    }\n\n    .dataframe tbody tr th {\n        vertical-align: top;\n    }\n\n    .dataframe thead th {\n        text-align: right;\n    }\n</style>\n<table border=\"1\" class=\"dataframe\">\n  <thead>\n    <tr style=\"text-align: right;\">\n      <th></th>\n      <th>Manufacturer</th>\n      <th>Model Name</th>\n      <th>Category</th>\n      <th>Screen Size</th>\n      <th>Screen</th>\n      <th>CPU</th>\n      <th>RAM</th>\n      <th>Storage</th>\n      <th>GPU</th>\n      <th>Operating System</th>\n      <th>Operating System Version</th>\n      <th>Weight</th>\n      <th>Price</th>\n    </tr>\n  </thead>\n  <tbody>\n    <tr>\n      <th>0</th>\n      <td>Apple</td>\n      <td>MacBook Pro</td>\n      <td>Ultrabook</td>\n      <td>13.3\"</td>\n      <td>IPS Panel Retina Display 2560x1600</td>\n      <td>Intel Core i5 2.3GHz</td>\n      <td>8GB</td>\n      <td>128GB SSD</td>\n      <td>Intel Iris Plus Graphics 640</td>\n      <td>macOS</td>\n      <td>NaN</td>\n      <td>1.37kg</td>\n      <td>11912523.48</td>\n    </tr>\n    <tr>\n      <th>1</th>\n      <td>Apple</td>\n      <td>Macbook Air</td>\n      <td>Ultrabook</td>\n      <td>13.3\"</td>\n      <td>1440x900</td>\n      <td>Intel Core i5 1.8GHz</td>\n      <td>8GB</td>\n      <td>128GB Flash Storage</td>\n      <td>Intel HD Graphics 6000</td>\n      <td>macOS</td>\n      <td>NaN</td>\n      <td>1.34kg</td>\n      <td>7993374.48</td>\n    </tr>\n    <tr>\n      <th>2</th>\n      <td>HP</td>\n      <td>250 G6</td>\n      <td>Notebook</td>\n      <td>15.6\"</td>\n      <td>Full HD 1920x1080</td>\n      <td>Intel Core i5 7200U 2.5GHz</td>\n      <td>8GB</td>\n      <td>256GB SSD</td>\n      <td>Intel HD Graphics 620</td>\n      <td>No OS</td>\n      <td>NaN</td>\n      <td>1.86kg</td>\n      <td>5112900.00</td>\n    </tr>\n    <tr>\n      <th>3</th>\n      <td>Apple</td>\n      <td>MacBook Pro</td>\n      <td>Ultrabook</td>\n      <td>15.4\"</td>\n      <td>IPS Panel Retina Display 2880x1800</td>\n      <td>Intel Core i7 2.7GHz</td>\n      <td>16GB</td>\n      <td>512GB SSD</td>\n      <td>AMD Radeon Pro 455</td>\n      <td>macOS</td>\n      <td>NaN</td>\n      <td>1.83kg</td>\n      <td>22563005.40</td>\n    </tr>\n    <tr>\n      <th>4</th>\n      <td>Apple</td>\n      <td>MacBook Pro</td>\n      <td>Ultrabook</td>\n      <td>13.3\"</td>\n      <td>IPS Panel Retina Display 2560x1600</td>\n      <td>Intel Core i5 3.1GHz</td>\n      <td>8GB</td>\n      <td>256GB SSD</td>\n      <td>Intel Iris Plus Graphics 650</td>\n      <td>macOS</td>\n      <td>NaN</td>\n      <td>1.37kg</td>\n      <td>16037611.20</td>\n    </tr>\n    <tr>\n      <th>5</th>\n      <td>Acer</td>\n      <td>Aspire 3</td>\n      <td>Notebook</td>\n      <td>15.6\"</td>\n      <td>1366x768</td>\n      <td>AMD A9-Series 9420 3GHz</td>\n      <td>4GB</td>\n      <td>500GB HDD</td>\n      <td>AMD Radeon R5</td>\n      <td>Windows</td>\n      <td>10</td>\n      <td>2.1kg</td>\n      <td>3556800.00</td>\n    </tr>\n    <tr>\n      <th>6</th>\n      <td>Apple</td>\n      <td>MacBook Pro</td>\n      <td>Ultrabook</td>\n      <td>15.4\"</td>\n      <td>IPS Panel Retina Display 2880x1800</td>\n      <td>Intel Core i7 2.2GHz</td>\n      <td>16GB</td>\n      <td>256GB Flash Storage</td>\n      <td>Intel Iris Pro Graphics</td>\n      <td>Mac OS</td>\n      <td>X</td>\n      <td>2.04kg</td>\n      <td>19028613.24</td>\n    </tr>\n    <tr>\n      <th>7</th>\n      <td>Apple</td>\n      <td>Macbook Air</td>\n      <td>Ultrabook</td>\n      <td>13.3\"</td>\n      <td>1440x900</td>\n      <td>Intel Core i5 1.8GHz</td>\n      <td>8GB</td>\n      <td>256GB Flash Storage</td>\n      <td>Intel HD Graphics 6000</td>\n      <td>macOS</td>\n      <td>NaN</td>\n      <td>1.34kg</td>\n      <td>10303160.40</td>\n    </tr>\n    <tr>\n      <th>8</th>\n      <td>Asus</td>\n      <td>ZenBook UX430UN</td>\n      <td>Ultrabook</td>\n      <td>14.0\"</td>\n      <td>Full HD 1920x1080</td>\n      <td>Intel Core i7 8550U 1.8GHz</td>\n      <td>16GB</td>\n      <td>512GB SSD</td>\n      <td>Nvidia GeForce MX150</td>\n      <td>Windows</td>\n      <td>10</td>\n      <td>1.3kg</td>\n      <td>13293540.00</td>\n    </tr>\n    <tr>\n      <th>9</th>\n      <td>Acer</td>\n      <td>Swift 3</td>\n      <td>Ultrabook</td>\n      <td>14.0\"</td>\n      <td>IPS Panel Full HD 1920x1080</td>\n      <td>Intel Core i5 8250U 1.6GHz</td>\n      <td>8GB</td>\n      <td>256GB SSD</td>\n      <td>Intel UHD Graphics 620</td>\n      <td>Windows</td>\n      <td>10</td>\n      <td>1.6kg</td>\n      <td>6846840.00</td>\n    </tr>\n  </tbody>\n</table>\n</div>"
     },
     "execution_count": 2,
     "metadata": {},
     "output_type": "execute_result"
    }
   ],
   "source": [
    "import os\n",
    "import pandas as pd\n",
    "def load_laptop_data(laptop_data=EXTRACTION_FOLDER):\n",
    "    csv_path = os.path.join(laptop_data, \"laptops_train.csv\")\n",
    "    return pd.read_csv(csv_path)\n",
    "laptop_pricing= load_laptop_data()\n",
    "laptop_pricing.head(10)"
   ]
  },
  {
   "cell_type": "code",
   "execution_count": 3,
   "metadata": {
    "ExecuteTime": {
     "end_time": "2023-11-20T09:25:06.055423200Z",
     "start_time": "2023-11-20T09:25:05.970216300Z"
    }
   },
   "outputs": [
    {
     "name": "stdout",
     "output_type": "stream",
     "text": [
      "<class 'pandas.core.frame.DataFrame'>\n",
      "RangeIndex: 977 entries, 0 to 976\n",
      "Data columns (total 13 columns):\n",
      " #   Column                    Non-Null Count  Dtype  \n",
      "---  ------                    --------------  -----  \n",
      " 0   Manufacturer              977 non-null    object \n",
      " 1   Model Name                977 non-null    object \n",
      " 2   Category                  977 non-null    object \n",
      " 3   Screen Size               977 non-null    object \n",
      " 4   Screen                    977 non-null    object \n",
      " 5   CPU                       977 non-null    object \n",
      " 6   RAM                       977 non-null    object \n",
      " 7   Storage                   977 non-null    object \n",
      " 8   GPU                       977 non-null    object \n",
      " 9   Operating System          977 non-null    object \n",
      " 10  Operating System Version  841 non-null    object \n",
      " 11  Weight                    977 non-null    object \n",
      " 12  Price                     977 non-null    float64\n",
      "dtypes: float64(1), object(12)\n",
      "memory usage: 99.4+ KB\n"
     ]
    }
   ],
   "source": [
    "laptop_pricing.info()"
   ]
  },
  {
   "cell_type": "code",
   "execution_count": 4,
   "metadata": {
    "ExecuteTime": {
     "end_time": "2023-11-20T09:25:10.165234200Z",
     "start_time": "2023-11-20T09:25:06.012192800Z"
    }
   },
   "outputs": [
    {
     "data": {
      "text/plain": "array([[<Axes: title={'center': 'Price'}>]], dtype=object)"
     },
     "execution_count": 4,
     "metadata": {},
     "output_type": "execute_result"
    },
    {
     "data": {
      "text/plain": "<Figure size 400x400 with 1 Axes>",
      "image/png": "[encoded data removed]"
     },
     "metadata": {},
     "output_type": "display_data"
    }
   ],
   "source": [
    "%matplotlib inline\n",
    "import matplotlib.pyplot as plt\n",
    "laptop_pricing.hist(bins=100, figsize=(4, 4))"
   ]
  },
  {
   "cell_type": "code",
   "execution_count": 5,
   "metadata": {
    "ExecuteTime": {
     "end_time": "2023-11-20T09:25:10.227720600Z",
     "start_time": "2023-11-20T09:25:10.166749800Z"
    }
   },
   "outputs": [],
   "source": [
    "import numpy as np\n",
    "# We will use this function to spilt the data into the training and testing set\n",
    "def split_training_data(data, test_ratio):\n",
    "    shuffled_indices = np.random.permutation(len(data))\n",
    "    test_set_size = int(len(data)*test_ratio)\n",
    "    test_indices = shuffled_indices[:test_set_size]\n",
    "    train_indices = shuffled_indices[test_set_size:]\n",
    "    return data.iloc[train_indices], data.iloc[test_indices]"
   ]
  },
  {
   "cell_type": "code",
   "execution_count": 6,
   "metadata": {
    "ExecuteTime": {
     "end_time": "2023-11-20T09:25:10.452382Z",
     "start_time": "2023-11-20T09:25:10.189424200Z"
    }
   },
   "outputs": [],
   "source": [
    "train_set, test_set = split_training_data(laptop_pricing, 0.2) #The test set is going to be 20% of the actual data and the rest of it will be used as training data"
   ]
  },
  {
   "cell_type": "code",
   "execution_count": 7,
   "metadata": {
    "ExecuteTime": {
     "end_time": "2023-11-20T09:25:10.457907500Z",
     "start_time": "2023-11-20T09:25:10.217921700Z"
    }
   },
   "outputs": [
    {
     "name": "stdout",
     "output_type": "stream",
     "text": [
      "782\n",
      "195\n"
     ]
    }
   ],
   "source": [
    "print(len(train_set)) #The length of the training set\n",
    "print(len(test_set)) #The length of the testing set"
   ]
  },
  {
   "cell_type": "code",
   "execution_count": 8,
   "metadata": {
    "ExecuteTime": {
     "end_time": "2023-11-20T09:25:10.488528900Z",
     "start_time": "2023-11-20T09:25:10.240089Z"
    }
   },
   "outputs": [
    {
     "name": "stdout",
     "output_type": "stream",
     "text": [
      "     Manufacturer  Model Name  Category  Screen Size  Screen    CPU    RAM  \\\n",
      "0           False       False     False        False   False  False  False   \n",
      "1           False       False     False        False   False  False  False   \n",
      "2           False       False     False        False   False  False  False   \n",
      "3           False       False     False        False   False  False  False   \n",
      "4           False       False     False        False   False  False  False   \n",
      "..            ...         ...       ...          ...     ...    ...    ...   \n",
      "972         False       False     False        False   False  False  False   \n",
      "973         False       False     False        False   False  False  False   \n",
      "974         False       False     False        False   False  False  False   \n",
      "975         False       False     False        False   False  False  False   \n",
      "976         False       False     False        False   False  False  False   \n",
      "\n",
      "     Storage    GPU  Operating System  Operating System Version  Weight  Price  \n",
      "0      False  False             False                      True   False  False  \n",
      "1      False  False             False                      True   False  False  \n",
      "2      False  False             False                      True   False  False  \n",
      "3      False  False             False                      True   False  False  \n",
      "4      False  False             False                      True   False  False  \n",
      "..       ...    ...               ...                       ...     ...    ...  \n",
      "972    False  False             False                     False   False  False  \n",
      "973    False  False             False                     False   False  False  \n",
      "974    False  False             False                     False   False  False  \n",
      "975    False  False             False                     False   False  False  \n",
      "976    False  False             False                     False   False  False  \n",
      "\n",
      "[977 rows x 13 columns]\n"
     ]
    }
   ],
   "source": [
    "missing_data = laptop_pricing.isnull()\n",
    "print(missing_data)"
   ]
  },
  {
   "cell_type": "code",
   "execution_count": 9,
   "metadata": {
    "ExecuteTime": {
     "end_time": "2023-11-20T09:25:10.490544400Z",
     "start_time": "2023-11-20T09:25:10.273880400Z"
    }
   },
   "outputs": [
    {
     "name": "stdout",
     "output_type": "stream",
     "text": [
      "Index(['Manufacturer', 'Model Name', 'Category', 'Screen Size', 'Screen',\n",
      "       'CPU', 'RAM', 'Storage', 'GPU', 'Operating System',\n",
      "       'Operating System Version', 'Weight', 'Price'],\n",
      "      dtype='object')\n"
     ]
    }
   ],
   "source": [
    "missing_count = missing_data.sum()\n",
    "print(laptop_pricing.columns)"
   ]
  },
  {
   "cell_type": "code",
   "execution_count": 10,
   "metadata": {
    "ExecuteTime": {
     "end_time": "2023-11-20T09:25:10.515685900Z",
     "start_time": "2023-11-20T09:25:10.295486500Z"
    }
   },
   "outputs": [],
   "source": [
    "columns_to_delete = [\"Operating System\",\"Operating System Version\" ]\n",
    "laptop_pricing.drop(columns=columns_to_delete, inplace=True)"
   ]
  },
  {
   "cell_type": "code",
   "execution_count": 11,
   "metadata": {
    "ExecuteTime": {
     "end_time": "2023-11-20T09:25:10.518778200Z",
     "start_time": "2023-11-20T09:25:10.322205300Z"
    }
   },
   "outputs": [
    {
     "name": "stdout",
     "output_type": "stream",
     "text": [
      "<class 'pandas.core.frame.DataFrame'>\n",
      "RangeIndex: 977 entries, 0 to 976\n",
      "Data columns (total 11 columns):\n",
      " #   Column        Non-Null Count  Dtype  \n",
      "---  ------        --------------  -----  \n",
      " 0   Manufacturer  977 non-null    object \n",
      " 1   Model Name    977 non-null    object \n",
      " 2   Category      977 non-null    object \n",
      " 3   Screen Size   977 non-null    object \n",
      " 4   Screen        977 non-null    object \n",
      " 5   CPU           977 non-null    object \n",
      " 6   RAM           977 non-null    object \n",
      " 7   Storage       977 non-null    object \n",
      " 8   GPU           977 non-null    object \n",
      " 9   Weight        977 non-null    object \n",
      " 10  Price         977 non-null    float64\n",
      "dtypes: float64(1), object(10)\n",
      "memory usage: 84.1+ KB\n"
     ]
    }
   ],
   "source": [
    "laptop_pricing.info()"
   ]
  },
  {
   "cell_type": "code",
   "execution_count": 12,
   "metadata": {
    "ExecuteTime": {
     "end_time": "2023-11-20T09:25:10.520794500Z",
     "start_time": "2023-11-20T09:25:10.356903600Z"
    }
   },
   "outputs": [],
   "source": [
    "from zlib import crc32\n",
    "\n",
    "def test_set_check(identifier, test_ratio):\n",
    "    return crc32(np.int64(identifier))&0xffffffff<test_ratio*2**32\n",
    "\n",
    "def split_train_test_by_id(data, test_ratio, id_column):\n",
    "    ids = data[id_column]\n",
    "    in_test_set = ids.apply(lambda id_: test_set_check(id_, test_ratio))\n",
    "    return data.loc[~in_test_set], data.loc[in_test_set]\n",
    "\n",
    "laptops_with_id= laptop_pricing.reset_index()\n",
    "train_set, test_set = split_train_test_by_id(laptops_with_id, 0.2, 'index')"
   ]
  },
  {
   "cell_type": "code",
   "execution_count": 13,
   "metadata": {
    "ExecuteTime": {
     "end_time": "2023-11-20T09:25:10.527306200Z",
     "start_time": "2023-11-20T09:25:10.394139600Z"
    }
   },
   "outputs": [
    {
     "name": "stdout",
     "output_type": "stream",
     "text": [
      "<class 'pandas.core.frame.DataFrame'>\n",
      "RangeIndex: 977 entries, 0 to 976\n",
      "Data columns (total 12 columns):\n",
      " #   Column        Non-Null Count  Dtype  \n",
      "---  ------        --------------  -----  \n",
      " 0   index         977 non-null    int64  \n",
      " 1   Manufacturer  977 non-null    object \n",
      " 2   Model Name    977 non-null    object \n",
      " 3   Category      977 non-null    object \n",
      " 4   Screen Size   977 non-null    object \n",
      " 5   Screen        977 non-null    object \n",
      " 6   CPU           977 non-null    object \n",
      " 7   RAM           977 non-null    object \n",
      " 8   Storage       977 non-null    object \n",
      " 9   GPU           977 non-null    object \n",
      " 10  Weight        977 non-null    object \n",
      " 11  Price         977 non-null    float64\n",
      "dtypes: float64(1), int64(1), object(10)\n",
      "memory usage: 91.7+ KB\n"
     ]
    }
   ],
   "source": [
    "\n",
    "laptops_with_id.info()"
   ]
  },
  {
   "cell_type": "code",
   "execution_count": 14,
   "metadata": {
    "ExecuteTime": {
     "end_time": "2023-11-20T09:25:10.557966700Z",
     "start_time": "2023-11-20T09:25:10.435266200Z"
    }
   },
   "outputs": [
    {
     "data": {
      "text/plain": "    index Manufacturer       Model Name   Category Screen Size  \\\n0       0        Apple      MacBook Pro  Ultrabook       13.3\"   \n1       1        Apple      Macbook Air  Ultrabook       13.3\"   \n2       2           HP           250 G6   Notebook       15.6\"   \n3       3        Apple      MacBook Pro  Ultrabook       15.4\"   \n4       4        Apple      MacBook Pro  Ultrabook       13.3\"   \n5       5         Acer         Aspire 3   Notebook       15.6\"   \n6       6        Apple      MacBook Pro  Ultrabook       15.4\"   \n7       7        Apple      Macbook Air  Ultrabook       13.3\"   \n8       8         Asus  ZenBook UX430UN  Ultrabook       14.0\"   \n9       9         Acer          Swift 3  Ultrabook       14.0\"   \n10     10           HP           250 G6   Notebook       15.6\"   \n11     11           HP           250 G6   Notebook       15.6\"   \n\n                                Screen                         CPU   RAM  \\\n0   IPS Panel Retina Display 2560x1600        Intel Core i5 2.3GHz   8GB   \n1                             1440x900        Intel Core i5 1.8GHz   8GB   \n2                    Full HD 1920x1080  Intel Core i5 7200U 2.5GHz   8GB   \n3   IPS Panel Retina Display 2880x1800        Intel Core i7 2.7GHz  16GB   \n4   IPS Panel Retina Display 2560x1600        Intel Core i5 3.1GHz   8GB   \n5                             1366x768     AMD A9-Series 9420 3GHz   4GB   \n6   IPS Panel Retina Display 2880x1800        Intel Core i7 2.2GHz  16GB   \n7                             1440x900        Intel Core i5 1.8GHz   8GB   \n8                    Full HD 1920x1080  Intel Core i7 8550U 1.8GHz  16GB   \n9          IPS Panel Full HD 1920x1080  Intel Core i5 8250U 1.6GHz   8GB   \n10                            1366x768  Intel Core i5 7200U 2.5GHz   4GB   \n11                   Full HD 1920x1080    Intel Core i3 6006U 2GHz   4GB   \n\n                Storage                           GPU  Weight        Price  \n0             128GB SSD  Intel Iris Plus Graphics 640  1.37kg  11912523.48  \n1   128GB Flash Storage        Intel HD Graphics 6000  1.34kg   7993374.48  \n2             256GB SSD         Intel HD Graphics 620  1.86kg   5112900.00  \n3             512GB SSD            AMD Radeon Pro 455  1.83kg  22563005.40  \n4             256GB SSD  Intel Iris Plus Graphics 650  1.37kg  16037611.20  \n5             500GB HDD                 AMD Radeon R5   2.1kg   3556800.00  \n6   256GB Flash Storage       Intel Iris Pro Graphics  2.04kg  19028613.24  \n7   256GB Flash Storage        Intel HD Graphics 6000  1.34kg  10303160.40  \n8             512GB SSD          Nvidia GeForce MX150   1.3kg  13293540.00  \n9             256GB SSD        Intel UHD Graphics 620   1.6kg   6846840.00  \n10            500GB HDD         Intel HD Graphics 620  1.86kg   3502558.80  \n11            500GB HDD         Intel HD Graphics 520  1.86kg   3067651.08  ",
      "text/html": "<div>\n<style scoped>\n    .dataframe tbody tr th:only-of-type {\n        vertical-align: middle;\n    }\n\n    .dataframe tbody tr th {\n        vertical-align: top;\n    }\n\n    .dataframe thead th {\n        text-align: right;\n    }\n</style>\n<table border=\"1\" class=\"dataframe\">\n  <thead>\n    <tr style=\"text-align: right;\">\n      <th></th>\n      <th>index</th>\n      <th>Manufacturer</th>\n      <th>Model Name</th>\n      <th>Category</th>\n      <th>Screen Size</th>\n      <th>Screen</th>\n      <th>CPU</th>\n      <th>RAM</th>\n      <th>Storage</th>\n      <th>GPU</th>\n      <th>Weight</th>\n      <th>Price</th>\n    </tr>\n  </thead>\n  <tbody>\n    <tr>\n      <th>0</th>\n      <td>0</td>\n      <td>Apple</td>\n      <td>MacBook Pro</td>\n      <td>Ultrabook</td>\n      <td>13.3\"</td>\n      <td>IPS Panel Retina Display 2560x1600</td>\n      <td>Intel Core i5 2.3GHz</td>\n      <td>8GB</td>\n      <td>128GB SSD</td>\n      <td>Intel Iris Plus Graphics 640</td>\n      <td>1.37kg</td>\n      <td>11912523.48</td>\n    </tr>\n    <tr>\n      <th>1</th>\n      <td>1</td>\n      <td>Apple</td>\n      <td>Macbook Air</td>\n      <td>Ultrabook</td>\n      <td>13.3\"</td>\n      <td>1440x900</td>\n      <td>Intel Core i5 1.8GHz</td>\n      <td>8GB</td>\n      <td>128GB Flash Storage</td>\n      <td>Intel HD Graphics 6000</td>\n      <td>1.34kg</td>\n      <td>7993374.48</td>\n    </tr>\n    <tr>\n      <th>2</th>\n      <td>2</td>\n      <td>HP</td>\n      <td>250 G6</td>\n      <td>Notebook</td>\n      <td>15.6\"</td>\n      <td>Full HD 1920x1080</td>\n      <td>Intel Core i5 7200U 2.5GHz</td>\n      <td>8GB</td>\n      <td>256GB SSD</td>\n      <td>Intel HD Graphics 620</td>\n      <td>1.86kg</td>\n      <td>5112900.00</td>\n    </tr>\n    <tr>\n      <th>3</th>\n      <td>3</td>\n      <td>Apple</td>\n      <td>MacBook Pro</td>\n      <td>Ultrabook</td>\n      <td>15.4\"</td>\n      <td>IPS Panel Retina Display 2880x1800</td>\n      <td>Intel Core i7 2.7GHz</td>\n      <td>16GB</td>\n      <td>512GB SSD</td>\n      <td>AMD Radeon Pro 455</td>\n      <td>1.83kg</td>\n      <td>22563005.40</td>\n    </tr>\n    <tr>\n      <th>4</th>\n      <td>4</td>\n      <td>Apple</td>\n      <td>MacBook Pro</td>\n      <td>Ultrabook</td>\n      <td>13.3\"</td>\n      <td>IPS Panel Retina Display 2560x1600</td>\n      <td>Intel Core i5 3.1GHz</td>\n      <td>8GB</td>\n      <td>256GB SSD</td>\n      <td>Intel Iris Plus Graphics 650</td>\n      <td>1.37kg</td>\n      <td>16037611.20</td>\n    </tr>\n    <tr>\n      <th>5</th>\n      <td>5</td>\n      <td>Acer</td>\n      <td>Aspire 3</td>\n      <td>Notebook</td>\n      <td>15.6\"</td>\n      <td>1366x768</td>\n      <td>AMD A9-Series 9420 3GHz</td>\n      <td>4GB</td>\n      <td>500GB HDD</td>\n      <td>AMD Radeon R5</td>\n      <td>2.1kg</td>\n      <td>3556800.00</td>\n    </tr>\n    <tr>\n      <th>6</th>\n      <td>6</td>\n      <td>Apple</td>\n      <td>MacBook Pro</td>\n      <td>Ultrabook</td>\n      <td>15.4\"</td>\n      <td>IPS Panel Retina Display 2880x1800</td>\n      <td>Intel Core i7 2.2GHz</td>\n      <td>16GB</td>\n      <td>256GB Flash Storage</td>\n      <td>Intel Iris Pro Graphics</td>\n      <td>2.04kg</td>\n      <td>19028613.24</td>\n    </tr>\n    <tr>\n      <th>7</th>\n      <td>7</td>\n      <td>Apple</td>\n      <td>Macbook Air</td>\n      <td>Ultrabook</td>\n      <td>13.3\"</td>\n      <td>1440x900</td>\n      <td>Intel Core i5 1.8GHz</td>\n      <td>8GB</td>\n      <td>256GB Flash Storage</td>\n      <td>Intel HD Graphics 6000</td>\n      <td>1.34kg</td>\n      <td>10303160.40</td>\n    </tr>\n    <tr>\n      <th>8</th>\n      <td>8</td>\n      <td>Asus</td>\n      <td>ZenBook UX430UN</td>\n      <td>Ultrabook</td>\n      <td>14.0\"</td>\n      <td>Full HD 1920x1080</td>\n      <td>Intel Core i7 8550U 1.8GHz</td>\n      <td>16GB</td>\n      <td>512GB SSD</td>\n      <td>Nvidia GeForce MX150</td>\n      <td>1.3kg</td>\n      <td>13293540.00</td>\n    </tr>\n    <tr>\n      <th>9</th>\n      <td>9</td>\n      <td>Acer</td>\n      <td>Swift 3</td>\n      <td>Ultrabook</td>\n      <td>14.0\"</td>\n      <td>IPS Panel Full HD 1920x1080</td>\n      <td>Intel Core i5 8250U 1.6GHz</td>\n      <td>8GB</td>\n      <td>256GB SSD</td>\n      <td>Intel UHD Graphics 620</td>\n      <td>1.6kg</td>\n      <td>6846840.00</td>\n    </tr>\n    <tr>\n      <th>10</th>\n      <td>10</td>\n      <td>HP</td>\n      <td>250 G6</td>\n      <td>Notebook</td>\n      <td>15.6\"</td>\n      <td>1366x768</td>\n      <td>Intel Core i5 7200U 2.5GHz</td>\n      <td>4GB</td>\n      <td>500GB HDD</td>\n      <td>Intel HD Graphics 620</td>\n      <td>1.86kg</td>\n      <td>3502558.80</td>\n    </tr>\n    <tr>\n      <th>11</th>\n      <td>11</td>\n      <td>HP</td>\n      <td>250 G6</td>\n      <td>Notebook</td>\n      <td>15.6\"</td>\n      <td>Full HD 1920x1080</td>\n      <td>Intel Core i3 6006U 2GHz</td>\n      <td>4GB</td>\n      <td>500GB HDD</td>\n      <td>Intel HD Graphics 520</td>\n      <td>1.86kg</td>\n      <td>3067651.08</td>\n    </tr>\n  </tbody>\n</table>\n</div>"
     },
     "execution_count": 14,
     "metadata": {},
     "output_type": "execute_result"
    }
   ],
   "source": [
    "laptops_with_id.head(12)"
   ]
  },
  {
   "cell_type": "code",
   "execution_count": 15,
   "metadata": {
    "ExecuteTime": {
     "end_time": "2023-11-20T09:25:19.863058800Z",
     "start_time": "2023-11-20T09:25:10.479979Z"
    }
   },
   "outputs": [],
   "source": [
    "from sklearn.model_selection import train_test_split\n",
    "train_set, test_set = train_test_split(laptop_pricing, test_size=0.2, random_state=42)"
   ]
  },
  {
   "cell_type": "code",
   "execution_count": 34,
   "metadata": {
    "ExecuteTime": {
     "end_time": "2023-11-20T10:52:03.623017200Z",
     "start_time": "2023-11-20T10:52:03.527706600Z"
    }
   },
   "outputs": [],
   "source": [
    "#import tensorflow.compat.v2.feature_column as fc\n",
    "import tensorflow as tf\n",
    "from sklearn.preprocessing import LabelEncoder, OneHotEncoder\n",
    "\n",
    "#Now we will try to change the object data into machine readable data(From data that includes letters such as laptop's name\n",
    "#into numbers for each suchlike attribute)\n",
    "label_encoder = LabelEncoder()\n",
    "#The data we should convert\n",
    "categorical_columns = ['Manufacturer','Model Name','Category','Screen Size','Screen','CPU','RAM','Storage',\n",
    "                   'GPU','Weight']\n",
    "combined_data = pd.concat([train_set, test_set]) #We combined the data so that when we add to vocabulary there is one whole dataset\n",
    "numerical_columns = ['Price']\n",
    "\n",
    "for col in categorical_columns:\n",
    "    combined_data[col + \"_encoded\"] = label_encoder.fit_transform(combined_data[col])\n",
    "\n",
    "one_hot_encoder = OneHotEncoder(sparse_output=False)\n",
    "for col in categorical_columns:\n",
    "    encoded_data = combined_data[col + '_encoded'].values.reshape(-1, 1)\n",
    "    onehot_encoded = one_hot_encoder.fit_transform(encoded_data)\n",
    "    onehot_df = pd.DataFrame(onehot_encoded, columns=[f'{col}_{int(i)}' for i in range(onehot_encoded.shape[1])])\n",
    "    laptop_data = pd.concat([combined_data, onehot_df], axis=1)\n",
    "    \n",
    "#Here we are deleting the previous categorical data.\n",
    "combined_data = combined_data.drop(columns=categorical_columns + [col + '_encoded' for col in categorical_columns])\n",
    "\n",
    "feature_columns = []\n",
    "# COULD NOT MAKE IT WORK\n",
    "# for feature_name in categorical_columns:\n",
    "#     vocabulary = combined_data[feature_name].unique()\n",
    "#     #feature_columns.append(tf.feature_column.categorical_column_with_vocabulary_list(feature_name, vocabulary))\n",
    "#     \n",
    "#     categorical_column = tf.feature_column.categorical_column_with_vocabulary_list(feature_name, vocabulary)\n",
    "#     embedding_dimension = min(50, len(vocabulary))  # Adjust the embedding dimension as needed\n",
    "#     embedded_column = tf.feature_column.embedding_column(categorical_column, dimension=embedding_dimension)\n",
    "#     feature_columns.append(embedded_column)\n",
    "#      \n",
    "# for feature_name in numerical_columns:\n",
    "#     feature_columns.append(tf.feature_column.numeric_column(feature_name, dtype=tf.float32))\n",
    "#      \n",
    "# #print(feature_columns)\n",
    "# # THE REASON WHY IT IS COMMENTED IS BECAUSE THIS CODE WILL BE DEPRECATED ANYTIME SOON,\n",
    "# # WE WILL USE SOME NEW METHOD TO CONVERT FROM CATEGORICAL DATA INTO NUMERICAL DATA.\n",
    "# # Assuming you have a DataFrame named test_set for testing data\n",
    "# \n",
    "# transformed_train_set = tf.keras.layers.DenseFeatures(feature_columns)(train_set)\n",
    "# transformed_test_set = tf.keras.layers.DenseFeatures(feature_columns)(test_set)\n",
    "# "
   ]
  },
  {
   "cell_type": "code",
   "execution_count": 31,
   "outputs": [
    {
     "data": {
      "text/plain": "array(['MSI', 'Dell', 'Asus', 'Acer', 'Xiaomi', 'Toshiba', 'Lenovo', 'HP',\n       'Razer', 'Apple', 'Fujitsu', 'Google', 'Mediacom', 'Microsoft',\n       'Samsung', 'LG', 'Chuwi', 'Huawei', 'Vero'], dtype=object)"
     },
     "execution_count": 31,
     "metadata": {},
     "output_type": "execute_result"
    }
   ],
   "source": [
    "train_set[\"Manufacturer\"].unique()"
   ],
   "metadata": {
    "collapsed": false,
    "ExecuteTime": {
     "end_time": "2023-11-20T10:50:53.270415300Z",
     "start_time": "2023-11-20T10:50:53.223606400Z"
    }
   }
  },
  {
   "cell_type": "code",
   "execution_count": 32,
   "outputs": [
    {
     "data": {
      "text/plain": "array(['GV62M 7RD', 'Inspiron 7560', 'XPS 13',\n       'E402WA-GA010T (E2-6110/2GB/32GB/W10)', 'Predator 17',\n       'Mi Notebook', 'VivoBook Flip', 'Satellite Pro', 'Inspiron 5567',\n       'IdeaPad 320-15IAP', 'Inspiron 7567', 'Chromebook X360',\n       'Thinkpad T470', 'ProBook 450', 'Inspiron 5570', 'Thinkpad X270',\n       'EliteBook x360', 'ProBook 440', 'Inspiron 5370', 'VivoBook S15',\n       'Inspiron 5767', 'Inspiron 3552', 'ThinkPad Yoga', 'Aspire 3',\n       '250 G6', '15-bw000nv (E2-9000e/4GB/500GB/Radeon', 'ZBook 15',\n       'Alienware 17', 'Yoga 720-15IKB', 'ZenBook Flip', 'Vostro 3568',\n       'Rog GL502VM-DS74', 'IdeaPad 320-15AST', 'Inspiron 3567',\n       'Precision 7520', '15-BS026nv (i5-7200U/8GB/256GB/Radeon',\n       'GP62M Leopard', 'Latitude 5480', 'Latitude 7480',\n       'Portege X20W-D-10V', 'R417NA-RS01 (N3350/4GB/32GB/W10)',\n       'Thinkpad P51', 'Zenbook UX510UW-FI095T',\n       '15-cb003na (i5-7300HQ/8GB/1TB', 'Rog G701VIK-BA060T',\n       'X705UV-BX074T (i3-6006U/4GB/1TB/GeForce', 'Probook 450',\n       'V310-15ISK (i3-6006U/4GB/128GB/FHD/No', 'Inspiron 5579',\n       'IdeaPad 320-17IKB', 'Vostro 5568', 'Blade Pro',\n       'IdeaPad 320-15ABR', 'MacBook 12\"',\n       '15-bs024nv (i5-7200U/8GB/128GB/W10)', 'Tecra Z50-C-144',\n       'Nitro AN515-51', 'Probook 430', 'ROG GL703VD-GC028T',\n       'Inspiron 3576', 'Vivobook X541UV-DM1217T', 'Rog GL702VS-BA023T',\n       'Lifebook A557', 'VivoBook Max', 'ProBook 430',\n       'VivoBook X540YA-XX519T', 'Precision M5520', 'Alienware 15',\n       'R558UA-DM966T (i5-7200U/8GB/128GB/FHD/W10)', 'Macbook Air',\n       '15-BS103nv (i5-8250U/6GB/256GB/Radeon', 'Latitude 5580',\n       'Thinkpad T570', 'Latitude 7280', 'ProBook 470',\n       'IdeaPad Y700-15ISK', 'IdeaPad 510-15IKB', 'Aspire 5',\n       'X542UQ-DM117 (i3-7100U/8GB/1TB/GeForce', 'Omen 17-w207nv',\n       'K756UX-T4340T (i5-7200U/8GB/500GB',\n       'UX510UX-CN269T (i7-7500U/8GB/256GB', 'VivoBook E403NA',\n       '15-bs018nq (i3-6006U/4GB/500GB/FHD/No', 'GE72MVR 7RG',\n       'GT62VR 7RE', 'Ideapad 320-15ISK', 'ProBook 640',\n       'Aspire A515-51G-37JS', 'Omen 15-ce006nv',\n       'V320-17ISK (i3-6006U/4GB/500GB/FHD/No', 'MacBook Pro',\n       'Spectre x360', 'Pixelbook (Core', 'ThinkPad T470p',\n       'Precision 3520', 'Elitebook 850', 'Zbook 17', 'SmartBook 141',\n       'Pavilion x360', 'FX550IK-DM018T (FX-9830P/8GB/1TB/Radeon',\n       'GE72VR 6RF', 'Thinkpad 13',\n       'FX753VE-GC093 (i7-7700HQ/12GB/1TB/GeForce',\n       'FX753VD-GC071T (i7-7700HQ/8GB/1TB/GeForce', 'VivoBook S14',\n       'Probook 650', 'Aspire E5-575', '255 G6', 'Probook 440',\n       'ThinkPad L570', 'Aspire A315-31', 'Latitude 5590',\n       '17-Y002nv (A10-9600P/6GB/2TB/Radeon', 'IdeaPad 320-17IKBR',\n       'VivoBook Pro', 'Pro P2540UA-AB51',\n       'Q304UA-BHI5T11 (i5-7200U/6GB/1TB/FHD/W10)',\n       '15-bs190od (i5-8250U/4GB/1TB/W10)', 'GL72M 7RDX',\n       'Tecra Z50-D-10E', 'Thinkpad Yoga', 'ROG G703VI-E5062T',\n       'ZenBook UX430UA', 'Aspire R7', 'Surface Laptop',\n       'Portege X30-D-10J', 'Swift 3', 'GS73VR Stealth', 'Inspiron 7773',\n       'Inspiron 7577', 'Thinkpad T470p', 'GP62M 7REX', 'ThinkPad X1',\n       '15-bs002nv (i3-6006U/4GB/128GB/FHD/W10)', 'ROG Strix',\n       'ThinkPad X270', '15-BS101nv (i7-8550U/8GB/256GB/FHD/W10)',\n       'Yoga 510-15IKB', 'FX753VE-GC155T (i7-7700HQ/16GB/1TB',\n       'GS63VR 7RF', 'Aspire VX5-591G', 'ThinkPad T570',\n       'X541NA (N3350/4GB/1TB/Linux)', 'Aspire A515-51G', 'ThinkPad L470',\n       '15-bs012nv (i7-7500U/8GB/1TB/Radeon', 'ProBook 650',\n       'IdeaPad 320-15IKB', 'IdeaPad 320-15ISK', 'Legion Y520-15IKBN',\n       'Vostro 5471', 'SP315-51 (i7-7500U/12GB/1TB/FHD/W10)',\n       'Tecra A50-C-21G', 'IdeaPad 320-17ISK', 'Yoga 920-13IKB',\n       'Aspire 1', 'Yoga 730', 'Portege Z30-C-1CW', 'ZBook 17',\n       'Aspire A315-51', 'Yoga 720-13IKB', 'Rog G752VS-BA171T',\n       'Pro P2540UA-XO0192R', 'Thinkpad X260', 'ThinkPad T470',\n       'Tecra A50-D-11M', '15-bw003nv (A9-Series-9420/4GB/256GB/FHD/W10)',\n       '15-BS028nv (i3-6006U/4GB/1TB/Radeon', 'Aspire E5-475',\n       'Rog GL753VD-GC042T', 'EliteBook 1040', 'Lenovo IdeaPad',\n       'Inspiron 7570', 'Elitebook Folio', 'Notebook Odyssey',\n       'Latitude 5289', 'Zenbook UX430UA', 'ThinkPad E580',\n       'Spectre X360', 'X542UQ-GO005 (i5-7200U/8GB/1TB/GeForce', 'XPS 15',\n       'Inspiron 5577', 'Notebook 9', 'GT80S 6QE', 'Aspire ES1-572',\n       '15-bs017nv (i7-7500U/8GB/256GB/Radeon',\n       'V310-15IKB (i5-7200U/8GB/1TB', 'Omen 15-AX205na', 'Latitude 3380',\n       'X541NA-GO414T (N3350/8GB/1TB/W10)', 'EliteBook 850',\n       'Extensa EX2540', 'GT80S 6QF-074US',\n       '15-BW004nv (A9-9420/4GB/256GB/Radeon', 'IdeaPad 720S-14IKB',\n       'Tecra Z40-C-12X', 'Envy 17-U275cl', 'EliteBook 840',\n       'VivoBook E201NA', '15-BW094nd (A6-9220/8GB/128GB/W10)',\n       'SmartBook Edge', 'V110-15ISK (3855U/4GB/500GB/W10)',\n       'Leopard GP72M', 'Portege Z30-C-16L', 'GT73VR Titan',\n       'Yoga 520-14IKB', 'Portege Z30-C-16Z', 'Tecra X40-D-10H',\n       'Thinkpad E470', 'Legion Y720-15IKB',\n       'FX753VD-GC007T (i7-7700HQ/8GB/1TB',\n       'V310-15ISK (i5-7200U/4GB/1TB/FHD/W10)', 'ThinkPad P51s',\n       'Aspire A517-51G', 'GS43VR 7RE', 'GE73VR 7RE',\n       'FX503VD-E4022T (i7-7700HQ/8GB/1TB/GeForce', 'Swift 7',\n       'Rog Strix', 'Vostro 5468', 'Chromebook 11', 'Latitude 7390',\n       'Gram 15Z975', 'Yoga 910-13IKB', 'Probook 640', 'Elitebook 1040',\n       'Probook 470', 'ThinkPad T460', 'Latitude E7470',\n       'GL553VE-FY082T (i7-7700HQ/8GB/1TB', 'Yoga 700-11ISK',\n       'Thinkpad T460', 'Yoga Book', 'Zbook 15', 'Gram 15Z970',\n       'Thinkpad X1', 'ThinkPad 13', 'Elitebook 840',\n       'FX502VM-DM560T (i7-7700HQ/8GB/1TB',\n       'X751SV-TY001T (N3710/4GB/1TB/GeForce', 'IdeaPad 310-15IKB',\n       'GL62M 7REX', 'Inspiron 5379',\n       'K556UR-DM621T (i7-7500U/8GB/256GB/GeForce',\n       'TP501UA-CJ131T (i5-7200U/8GB/1TB/W10)',\n       'E402WA-GA007T (E2-6110/4GB/64GB/W10', 'ZenBook UX410UA-GV183T',\n       'Vostro 5370', 'ROG GL553VE-FY022', 'TravelMate P259-G2',\n       'Laptop MSI', 'Rog GL702VS-GC095T', 'Chromebook Flip',\n       'Thinkpad T460p', 'ROG Zephyrus', 'Rog GL753VD-GC082T',\n       '17-bs001nv (i5-7200U/6GB/2TB/Radeon', 'Insprion 5767',\n       'Chromebook C731-C78G', 'VivoBook E12', 'Smartbook 142',\n       'Ideapad 320-15IKBN', 'V310-15IKB (i5-7200U/4GB/1TB/FHD/W10)',\n       'Aspire E5-576G', 'MacBook Air', 'TravelMate P238-M', 'ZBook 15u',\n       'Inspiron 5770', 'Tecra A50-C-1ZV', 'Thinkpad T460s',\n       'IdeaPad Y700-15ACZ', 'Latitude 3580', 'ThinkPad T470s',\n       'IdeaPad 320-14IAP', 'V110-15IKB (i5-7200U/4GB/128GB/W10)',\n       'V110-15ISK (i3-6006U/4GB/500GB/W10)', 'Envy 13-ad009n',\n       'LapBook 12.3', 'ThinkPad E480', 'Omen 17-AN010nv', 'Aspire 7',\n       'Tecra Z50-C-140', 'Chromebook 14', 'ZenBook UX430UN',\n       'Predator G9-793', 'A715-71G-59DH (i5-7300HQ/8GB/1TB/GeForce',\n       'IdeaPad 320-15IKBN', '14-am079na (N3710/8GB/2TB/W10)',\n       'LifeBook A557', 'V310-15ISK (i3-6006U/4GB/500GB/No',\n       'Precision 7720', 'IdeaPad 110-17ACL', 'EliteBook 820',\n       'X541NA (N3350/4GB/1TB/FHD/W10)', 'EliteBook Folio', 'Gram 14Z970',\n       'IdeaPad 510s-14IKB', 'IdeaPad 120S-14IAP', 'Swift SF114-31-P5HY',\n       '15-bs015dx (i5-7200U/8GB/1TB/W10)', 'Omen 17-an012dx',\n       'Portégé Z30-C-188', 'IdeaPad 100S-14IBR', 'Inspiron 7559',\n       'Envy x360', '17-AK091ND (A9-9420/8GB/1TB/W10)',\n       'V310-15IKB (i7-7500U/4GB/1TB/FHD/W10)', 'Chromebook CB5-571-C1DZ',\n       'Latitude 3480', 'Flex 5', 'Ideapad 510S-13IKB',\n       'Ideapad 520-15IKBR', 'IdeaPad 520s-14IKB',\n       'V310-15ISK (i5-7200U/8GB/1TB', 'GL62M 7RD', 'Blade Stealth',\n       'Zenbook 3', 'Portege Z30-C-16J', 'ThinkPad P51',\n       'X541NA-GO121 (N4200/4GB/1TB/Linux)',\n       '17-ak002nv (A10-9620P/6GB/2TB/Radeon', 'GT73EVR 7RE',\n       'Thinkpad P51s', 'V330-15IKB (i5-8250U/4GB/256GB/FHD/W10)',\n       'Yoga 11e', 'Zenbook Flip', 'Elitebook 820', 'IdeaPad 510-15ISK',\n       'CB5-132T-C9KK (N3160/4GB/32GB/Chrome', 'SmartBook 130',\n       'IdeaPad Y910-17ISK', 'F756UX-T4201D (i7-7500U/8GB/128GB',\n       'Portege Z30T-C-133', 'MateBook X',\n       'TMX349-G2-M-50FS (i5-7200U/8GB/256GB/FHD/W10)', 'Envy 13-AB077cl',\n       'Extensa EX2540-58KR', 'Spin 5', 'Thinkpad P71', 'Tecra X40-D-10G',\n       'V330-15IKB (i5-8250U/4GB/500GB/FHD/W10)',\n       '17-X047na (i3-6006U/8GB/1TB/W10)',\n       'X751NV-TY001 (N4200/4GB/1TB/GeForce', 'ThinkPad E470',\n       'V310-15IKB (i5-7200U/4GB/1TB/No', '17-bs000nv I3',\n       'X541UV-DM1439T (i3-7100U/6GB/256GB/GeForce', 'Latitude 3180',\n       'Inspiron 5378', 'Thinkpad E570', 'Portege Z30-C-16P',\n       '17-ak001nv (A6-9220/4GB/500GB/Radeon', 'Vivobook Max',\n       '15-BS078nr (i7-7500U/8GB/1TB/W10)', 'IdeaPad 110-15ISK',\n       'Pro P2540UA-XO0198T', 'Zenbook UX390UA', 'Tecra A40-C-1E5',\n       'Pavilion X360', 'Rog GL753VE-GC070T', 'Inspiron 3179',\n       'IdeaPad 520S-14IKB', 'N42-20 Chromebook',\n       'X540UA-DM186 (i3-6006U/4GB/1TB/FHD/Linux)',\n       'Zenbook UX330UA-AH5Q', 'K146 (N3350/4GB/32GB/W10)', 'GL72M 7REX',\n       'ROG G752VSK-GC493T', 'TravelMate B', 'Inspiron 3168',\n       'Tecra A40-C-1DF', 'Thinkpad T470s', 'Portege X30-D-10X',\n       'V330-15IKB (i7-8550U/8GB/256GB/FHD/W10)',\n       'V110-15ISK (i5-6200U/4GB/128GB/W10)',\n       'A541NA-GO342 (N3350/4GB/500GB/Linux)',\n       '15-BW037na (A9-9420/4GB/1TB/Radeon',\n       'FX753VD-GC461T (i7-7700HQ/16GB/1TB', 'Tecra X40-D-10Z',\n       'Pavilion 14-BK001nv', 'Chromebook C738T-C2EJ',\n       'V330-15IKB (i3-7130U/4GB/128GB/FHD/W10)',\n       'Q524UQ-BHI7T15 (i7-7500U/12GB/2TB/GeForce', 'Envy 13-AB002nv',\n       'FX553VD-DM627T (i5-7300HQ/8GB/1TB', 'Thinkpad P50',\n       'Precision 3510', 'Rog GL702VM-GC017T', 'ThinkPad E570',\n       'ProBook x360', 'Chromebook N23', 'EliteBook 1030',\n       'Tecra Z40-C-161', '15-bs011nv (i7-7500U/4GB/500GB/Radeon',\n       'Latitude E5470', 'L502NA-GO052T (N3350/4GB/128GB/W10)',\n       'GS73VR 7RG', 'ZenBook Pro', 'Spin SP111-31',\n       'X541NA (N4200/4GB/1TB/W10)',\n       'X505BP-BR019T (A9-9420/4GB/1TB/Radeon',\n       'ES1-523-84K7 (A8-7410/8GB/256GB/FHD/W10)',\n       '17-BS092ND (i3-6006U/8GB/256GB/W10)',\n       'X555BP-XX180T (A9-9420/4GB/1TB/Radeon',\n       'K147 (N3350/4GB/32GB/FHD/W10)', 'Portege X30-D-10L',\n       'Ideapad 320-15IAP', '15-ay047nv (i3-6006U/6GB/1TB/Radeon',\n       'Omen 15-ce007nv', 'GS63VR 7RG', 'Vivobook E200HA',\n       'Ideapad 310-15ISK'], dtype=object)"
     },
     "execution_count": 32,
     "metadata": {},
     "output_type": "execute_result"
    }
   ],
   "source": [
    "train_set[\"Model Name\"].unique()"
   ],
   "metadata": {
    "collapsed": false,
    "ExecuteTime": {
     "end_time": "2023-11-20T10:51:02.817197600Z",
     "start_time": "2023-11-20T10:51:02.785299600Z"
    }
   }
  },
  {
   "cell_type": "code",
   "execution_count": 33,
   "outputs": [
    {
     "ename": "KeyError",
     "evalue": "'Model Name'",
     "output_type": "error",
     "traceback": [
      "\u001B[1;31m---------------------------------------------------------------------------\u001B[0m",
      "\u001B[1;31mKeyError\u001B[0m                                  Traceback (most recent call last)",
      "File \u001B[1;32m~\\Projects\\MachineLearning\\venv\\Lib\\site-packages\\pandas\\core\\indexes\\base.py:3790\u001B[0m, in \u001B[0;36mIndex.get_loc\u001B[1;34m(self, key)\u001B[0m\n\u001B[0;32m   3789\u001B[0m \u001B[38;5;28;01mtry\u001B[39;00m:\n\u001B[1;32m-> 3790\u001B[0m     \u001B[38;5;28;01mreturn\u001B[39;00m \u001B[38;5;28;43mself\u001B[39;49m\u001B[38;5;241;43m.\u001B[39;49m\u001B[43m_engine\u001B[49m\u001B[38;5;241;43m.\u001B[39;49m\u001B[43mget_loc\u001B[49m\u001B[43m(\u001B[49m\u001B[43mcasted_key\u001B[49m\u001B[43m)\u001B[49m\n\u001B[0;32m   3791\u001B[0m \u001B[38;5;28;01mexcept\u001B[39;00m \u001B[38;5;167;01mKeyError\u001B[39;00m \u001B[38;5;28;01mas\u001B[39;00m err:\n",
      "File \u001B[1;32mindex.pyx:152\u001B[0m, in \u001B[0;36mpandas._libs.index.IndexEngine.get_loc\u001B[1;34m()\u001B[0m\n",
      "File \u001B[1;32mindex.pyx:181\u001B[0m, in \u001B[0;36mpandas._libs.index.IndexEngine.get_loc\u001B[1;34m()\u001B[0m\n",
      "File \u001B[1;32mpandas\\_libs\\hashtable_class_helper.pxi:7080\u001B[0m, in \u001B[0;36mpandas._libs.hashtable.PyObjectHashTable.get_item\u001B[1;34m()\u001B[0m\n",
      "File \u001B[1;32mpandas\\_libs\\hashtable_class_helper.pxi:7088\u001B[0m, in \u001B[0;36mpandas._libs.hashtable.PyObjectHashTable.get_item\u001B[1;34m()\u001B[0m\n",
      "\u001B[1;31mKeyError\u001B[0m: 'Model Name'",
      "\nThe above exception was the direct cause of the following exception:\n",
      "\u001B[1;31mKeyError\u001B[0m                                  Traceback (most recent call last)",
      "Cell \u001B[1;32mIn[33], line 1\u001B[0m\n\u001B[1;32m----> 1\u001B[0m \u001B[43mcombined_data\u001B[49m\u001B[43m[\u001B[49m\u001B[38;5;124;43m\"\u001B[39;49m\u001B[38;5;124;43mModel Name\u001B[39;49m\u001B[38;5;124;43m\"\u001B[39;49m\u001B[43m]\u001B[49m\u001B[38;5;241m.\u001B[39munique()\n",
      "File \u001B[1;32m~\\Projects\\MachineLearning\\venv\\Lib\\site-packages\\pandas\\core\\frame.py:3896\u001B[0m, in \u001B[0;36mDataFrame.__getitem__\u001B[1;34m(self, key)\u001B[0m\n\u001B[0;32m   3894\u001B[0m \u001B[38;5;28;01mif\u001B[39;00m \u001B[38;5;28mself\u001B[39m\u001B[38;5;241m.\u001B[39mcolumns\u001B[38;5;241m.\u001B[39mnlevels \u001B[38;5;241m>\u001B[39m \u001B[38;5;241m1\u001B[39m:\n\u001B[0;32m   3895\u001B[0m     \u001B[38;5;28;01mreturn\u001B[39;00m \u001B[38;5;28mself\u001B[39m\u001B[38;5;241m.\u001B[39m_getitem_multilevel(key)\n\u001B[1;32m-> 3896\u001B[0m indexer \u001B[38;5;241m=\u001B[39m \u001B[38;5;28;43mself\u001B[39;49m\u001B[38;5;241;43m.\u001B[39;49m\u001B[43mcolumns\u001B[49m\u001B[38;5;241;43m.\u001B[39;49m\u001B[43mget_loc\u001B[49m\u001B[43m(\u001B[49m\u001B[43mkey\u001B[49m\u001B[43m)\u001B[49m\n\u001B[0;32m   3897\u001B[0m \u001B[38;5;28;01mif\u001B[39;00m is_integer(indexer):\n\u001B[0;32m   3898\u001B[0m     indexer \u001B[38;5;241m=\u001B[39m [indexer]\n",
      "File \u001B[1;32m~\\Projects\\MachineLearning\\venv\\Lib\\site-packages\\pandas\\core\\indexes\\base.py:3797\u001B[0m, in \u001B[0;36mIndex.get_loc\u001B[1;34m(self, key)\u001B[0m\n\u001B[0;32m   3792\u001B[0m     \u001B[38;5;28;01mif\u001B[39;00m \u001B[38;5;28misinstance\u001B[39m(casted_key, \u001B[38;5;28mslice\u001B[39m) \u001B[38;5;129;01mor\u001B[39;00m (\n\u001B[0;32m   3793\u001B[0m         \u001B[38;5;28misinstance\u001B[39m(casted_key, abc\u001B[38;5;241m.\u001B[39mIterable)\n\u001B[0;32m   3794\u001B[0m         \u001B[38;5;129;01mand\u001B[39;00m \u001B[38;5;28many\u001B[39m(\u001B[38;5;28misinstance\u001B[39m(x, \u001B[38;5;28mslice\u001B[39m) \u001B[38;5;28;01mfor\u001B[39;00m x \u001B[38;5;129;01min\u001B[39;00m casted_key)\n\u001B[0;32m   3795\u001B[0m     ):\n\u001B[0;32m   3796\u001B[0m         \u001B[38;5;28;01mraise\u001B[39;00m InvalidIndexError(key)\n\u001B[1;32m-> 3797\u001B[0m     \u001B[38;5;28;01mraise\u001B[39;00m \u001B[38;5;167;01mKeyError\u001B[39;00m(key) \u001B[38;5;28;01mfrom\u001B[39;00m \u001B[38;5;21;01merr\u001B[39;00m\n\u001B[0;32m   3798\u001B[0m \u001B[38;5;28;01mexcept\u001B[39;00m \u001B[38;5;167;01mTypeError\u001B[39;00m:\n\u001B[0;32m   3799\u001B[0m     \u001B[38;5;66;03m# If we have a listlike key, _check_indexing_error will raise\u001B[39;00m\n\u001B[0;32m   3800\u001B[0m     \u001B[38;5;66;03m#  InvalidIndexError. Otherwise we fall through and re-raise\u001B[39;00m\n\u001B[0;32m   3801\u001B[0m     \u001B[38;5;66;03m#  the TypeError.\u001B[39;00m\n\u001B[0;32m   3802\u001B[0m     \u001B[38;5;28mself\u001B[39m\u001B[38;5;241m.\u001B[39m_check_indexing_error(key)\n",
      "\u001B[1;31mKeyError\u001B[0m: 'Model Name'"
     ]
    }
   ],
   "source": [
    "combined_data[\"Model Name\"].unique()"
   ],
   "metadata": {
    "collapsed": false,
    "ExecuteTime": {
     "end_time": "2023-11-20T10:51:24.590634100Z",
     "start_time": "2023-11-20T10:51:23.985050800Z"
    }
   }
  },
  {
   "cell_type": "code",
   "execution_count": null,
   "outputs": [],
   "source": [],
   "metadata": {
    "collapsed": false
   }
  }
 ],
 "metadata": {
  "kernelspec": {
   "display_name": "Python 3 (ipykernel)",
   "language": "python",
   "name": "python3"
  },
  "language_info": {
   "codemirror_mode": {
    "name": "ipython",
    "version": 3
   },
   "file_extension": ".py",
   "mimetype": "text/x-python",
   "name": "python",
   "nbconvert_exporter": "python",
   "pygments_lexer": "ipython3",
   "version": "3.11.5"
  }
 },
 "nbformat": 4,
 "nbformat_minor": 1
}
