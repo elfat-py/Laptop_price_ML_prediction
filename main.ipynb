{
 "cells": [
  {
   "cell_type": "code",
   "execution_count": 1,
   "metadata": {
    "collapsed": true,
    "ExecuteTime": {
     "start_time": "2023-10-12T13:14:04.169763Z",
     "end_time": "2023-10-12T13:14:04.245792Z"
    }
   },
   "outputs": [],
   "source": [
    "import os.path\n",
    "import zipfile\n",
    "\n",
    "UNEXTRACT_DATA = \"data/laptopPrices.zip\"\n",
    "EXTRACTION_FOLDER = \"data/extractedData\"\n",
    "\n",
    "def fetch_data(extraction_dir, unextract_data):\n",
    "    try:\n",
    "        with zipfile.ZipFile(unextract_data, 'r' ) as zip_ref:\n",
    "            zip_ref.extractall(extraction_dir)\n",
    "    except Exception as e:\n",
    "        print(f\"An error has occurred: {str(e)}\")\n",
    "\n",
    "fetch_data(EXTRACTION_FOLDER, UNEXTRACT_DATA)\n"
   ]
  },
  {
   "cell_type": "code",
   "execution_count": 2,
   "outputs": [
    {
     "data": {
      "text/plain": "  Manufacturer       Model Name   Category Screen Size  \\\n0        Apple      MacBook Pro  Ultrabook       13.3\"   \n1        Apple      Macbook Air  Ultrabook       13.3\"   \n2           HP           250 G6   Notebook       15.6\"   \n3        Apple      MacBook Pro  Ultrabook       15.4\"   \n4        Apple      MacBook Pro  Ultrabook       13.3\"   \n5         Acer         Aspire 3   Notebook       15.6\"   \n6        Apple      MacBook Pro  Ultrabook       15.4\"   \n7        Apple      Macbook Air  Ultrabook       13.3\"   \n8         Asus  ZenBook UX430UN  Ultrabook       14.0\"   \n9         Acer          Swift 3  Ultrabook       14.0\"   \n\n                               Screen                         CPU   RAM  \\\n0  IPS Panel Retina Display 2560x1600        Intel Core i5 2.3GHz   8GB   \n1                            1440x900        Intel Core i5 1.8GHz   8GB   \n2                   Full HD 1920x1080  Intel Core i5 7200U 2.5GHz   8GB   \n3  IPS Panel Retina Display 2880x1800        Intel Core i7 2.7GHz  16GB   \n4  IPS Panel Retina Display 2560x1600        Intel Core i5 3.1GHz   8GB   \n5                            1366x768     AMD A9-Series 9420 3GHz   4GB   \n6  IPS Panel Retina Display 2880x1800        Intel Core i7 2.2GHz  16GB   \n7                            1440x900        Intel Core i5 1.8GHz   8GB   \n8                   Full HD 1920x1080  Intel Core i7 8550U 1.8GHz  16GB   \n9         IPS Panel Full HD 1920x1080  Intel Core i5 8250U 1.6GHz   8GB   \n\n               Storage                           GPU Operating System  \\\n0            128GB SSD  Intel Iris Plus Graphics 640            macOS   \n1  128GB Flash Storage        Intel HD Graphics 6000            macOS   \n2            256GB SSD         Intel HD Graphics 620            No OS   \n3            512GB SSD            AMD Radeon Pro 455            macOS   \n4            256GB SSD  Intel Iris Plus Graphics 650            macOS   \n5            500GB HDD                 AMD Radeon R5          Windows   \n6  256GB Flash Storage       Intel Iris Pro Graphics           Mac OS   \n7  256GB Flash Storage        Intel HD Graphics 6000            macOS   \n8            512GB SSD          Nvidia GeForce MX150          Windows   \n9            256GB SSD        Intel UHD Graphics 620          Windows   \n\n  Operating System Version  Weight        Price  \n0                      NaN  1.37kg  11912523.48  \n1                      NaN  1.34kg   7993374.48  \n2                      NaN  1.86kg   5112900.00  \n3                      NaN  1.83kg  22563005.40  \n4                      NaN  1.37kg  16037611.20  \n5                       10   2.1kg   3556800.00  \n6                        X  2.04kg  19028613.24  \n7                      NaN  1.34kg  10303160.40  \n8                       10   1.3kg  13293540.00  \n9                       10   1.6kg   6846840.00  ",
      "text/html": "<div>\n<style scoped>\n    .dataframe tbody tr th:only-of-type {\n        vertical-align: middle;\n    }\n\n    .dataframe tbody tr th {\n        vertical-align: top;\n    }\n\n    .dataframe thead th {\n        text-align: right;\n    }\n</style>\n<table border=\"1\" class=\"dataframe\">\n  <thead>\n    <tr style=\"text-align: right;\">\n      <th></th>\n      <th>Manufacturer</th>\n      <th>Model Name</th>\n      <th>Category</th>\n      <th>Screen Size</th>\n      <th>Screen</th>\n      <th>CPU</th>\n      <th>RAM</th>\n      <th>Storage</th>\n      <th>GPU</th>\n      <th>Operating System</th>\n      <th>Operating System Version</th>\n      <th>Weight</th>\n      <th>Price</th>\n    </tr>\n  </thead>\n  <tbody>\n    <tr>\n      <th>0</th>\n      <td>Apple</td>\n      <td>MacBook Pro</td>\n      <td>Ultrabook</td>\n      <td>13.3\"</td>\n      <td>IPS Panel Retina Display 2560x1600</td>\n      <td>Intel Core i5 2.3GHz</td>\n      <td>8GB</td>\n      <td>128GB SSD</td>\n      <td>Intel Iris Plus Graphics 640</td>\n      <td>macOS</td>\n      <td>NaN</td>\n      <td>1.37kg</td>\n      <td>11912523.48</td>\n    </tr>\n    <tr>\n      <th>1</th>\n      <td>Apple</td>\n      <td>Macbook Air</td>\n      <td>Ultrabook</td>\n      <td>13.3\"</td>\n      <td>1440x900</td>\n      <td>Intel Core i5 1.8GHz</td>\n      <td>8GB</td>\n      <td>128GB Flash Storage</td>\n      <td>Intel HD Graphics 6000</td>\n      <td>macOS</td>\n      <td>NaN</td>\n      <td>1.34kg</td>\n      <td>7993374.48</td>\n    </tr>\n    <tr>\n      <th>2</th>\n      <td>HP</td>\n      <td>250 G6</td>\n      <td>Notebook</td>\n      <td>15.6\"</td>\n      <td>Full HD 1920x1080</td>\n      <td>Intel Core i5 7200U 2.5GHz</td>\n      <td>8GB</td>\n      <td>256GB SSD</td>\n      <td>Intel HD Graphics 620</td>\n      <td>No OS</td>\n      <td>NaN</td>\n      <td>1.86kg</td>\n      <td>5112900.00</td>\n    </tr>\n    <tr>\n      <th>3</th>\n      <td>Apple</td>\n      <td>MacBook Pro</td>\n      <td>Ultrabook</td>\n      <td>15.4\"</td>\n      <td>IPS Panel Retina Display 2880x1800</td>\n      <td>Intel Core i7 2.7GHz</td>\n      <td>16GB</td>\n      <td>512GB SSD</td>\n      <td>AMD Radeon Pro 455</td>\n      <td>macOS</td>\n      <td>NaN</td>\n      <td>1.83kg</td>\n      <td>22563005.40</td>\n    </tr>\n    <tr>\n      <th>4</th>\n      <td>Apple</td>\n      <td>MacBook Pro</td>\n      <td>Ultrabook</td>\n      <td>13.3\"</td>\n      <td>IPS Panel Retina Display 2560x1600</td>\n      <td>Intel Core i5 3.1GHz</td>\n      <td>8GB</td>\n      <td>256GB SSD</td>\n      <td>Intel Iris Plus Graphics 650</td>\n      <td>macOS</td>\n      <td>NaN</td>\n      <td>1.37kg</td>\n      <td>16037611.20</td>\n    </tr>\n    <tr>\n      <th>5</th>\n      <td>Acer</td>\n      <td>Aspire 3</td>\n      <td>Notebook</td>\n      <td>15.6\"</td>\n      <td>1366x768</td>\n      <td>AMD A9-Series 9420 3GHz</td>\n      <td>4GB</td>\n      <td>500GB HDD</td>\n      <td>AMD Radeon R5</td>\n      <td>Windows</td>\n      <td>10</td>\n      <td>2.1kg</td>\n      <td>3556800.00</td>\n    </tr>\n    <tr>\n      <th>6</th>\n      <td>Apple</td>\n      <td>MacBook Pro</td>\n      <td>Ultrabook</td>\n      <td>15.4\"</td>\n      <td>IPS Panel Retina Display 2880x1800</td>\n      <td>Intel Core i7 2.2GHz</td>\n      <td>16GB</td>\n      <td>256GB Flash Storage</td>\n      <td>Intel Iris Pro Graphics</td>\n      <td>Mac OS</td>\n      <td>X</td>\n      <td>2.04kg</td>\n      <td>19028613.24</td>\n    </tr>\n    <tr>\n      <th>7</th>\n      <td>Apple</td>\n      <td>Macbook Air</td>\n      <td>Ultrabook</td>\n      <td>13.3\"</td>\n      <td>1440x900</td>\n      <td>Intel Core i5 1.8GHz</td>\n      <td>8GB</td>\n      <td>256GB Flash Storage</td>\n      <td>Intel HD Graphics 6000</td>\n      <td>macOS</td>\n      <td>NaN</td>\n      <td>1.34kg</td>\n      <td>10303160.40</td>\n    </tr>\n    <tr>\n      <th>8</th>\n      <td>Asus</td>\n      <td>ZenBook UX430UN</td>\n      <td>Ultrabook</td>\n      <td>14.0\"</td>\n      <td>Full HD 1920x1080</td>\n      <td>Intel Core i7 8550U 1.8GHz</td>\n      <td>16GB</td>\n      <td>512GB SSD</td>\n      <td>Nvidia GeForce MX150</td>\n      <td>Windows</td>\n      <td>10</td>\n      <td>1.3kg</td>\n      <td>13293540.00</td>\n    </tr>\n    <tr>\n      <th>9</th>\n      <td>Acer</td>\n      <td>Swift 3</td>\n      <td>Ultrabook</td>\n      <td>14.0\"</td>\n      <td>IPS Panel Full HD 1920x1080</td>\n      <td>Intel Core i5 8250U 1.6GHz</td>\n      <td>8GB</td>\n      <td>256GB SSD</td>\n      <td>Intel UHD Graphics 620</td>\n      <td>Windows</td>\n      <td>10</td>\n      <td>1.6kg</td>\n      <td>6846840.00</td>\n    </tr>\n  </tbody>\n</table>\n</div>"
     },
     "execution_count": 2,
     "metadata": {},
     "output_type": "execute_result"
    }
   ],
   "source": [
    "import os\n",
    "import pandas as pd\n",
    "def load_laptop_data(laptop_data=EXTRACTION_FOLDER):\n",
    "    csv_path = os.path.join(laptop_data, \"laptops_train.csv\")\n",
    "    return pd.read_csv(csv_path)\n",
    "laptop_pricing= load_laptop_data()\n",
    "laptop_pricing.head(10)"
   ],
   "metadata": {
    "collapsed": false,
    "ExecuteTime": {
     "start_time": "2023-10-12T13:14:04.184222Z",
     "end_time": "2023-10-12T13:14:05.120657Z"
    }
   }
  },
  {
   "cell_type": "code",
   "execution_count": 3,
   "outputs": [
    {
     "name": "stdout",
     "output_type": "stream",
     "text": [
      "<class 'pandas.core.frame.DataFrame'>\n",
      "RangeIndex: 977 entries, 0 to 976\n",
      "Data columns (total 13 columns):\n",
      " #   Column                    Non-Null Count  Dtype  \n",
      "---  ------                    --------------  -----  \n",
      " 0   Manufacturer              977 non-null    object \n",
      " 1   Model Name                977 non-null    object \n",
      " 2   Category                  977 non-null    object \n",
      " 3   Screen Size               977 non-null    object \n",
      " 4   Screen                    977 non-null    object \n",
      " 5   CPU                       977 non-null    object \n",
      " 6   RAM                       977 non-null    object \n",
      " 7   Storage                   977 non-null    object \n",
      " 8   GPU                       977 non-null    object \n",
      " 9   Operating System          977 non-null    object \n",
      " 10  Operating System Version  841 non-null    object \n",
      " 11  Weight                    977 non-null    object \n",
      " 12  Price                     977 non-null    float64\n",
      "dtypes: float64(1), object(12)\n",
      "memory usage: 99.4+ KB\n"
     ]
    }
   ],
   "source": [
    "laptop_pricing.info()"
   ],
   "metadata": {
    "collapsed": false,
    "ExecuteTime": {
     "start_time": "2023-10-12T13:14:05.116117Z",
     "end_time": "2023-10-12T13:14:05.211063Z"
    }
   }
  },
  {
   "cell_type": "code",
   "execution_count": 4,
   "outputs": [
    {
     "data": {
      "text/plain": "array([[<Axes: title={'center': 'Price'}>]], dtype=object)"
     },
     "execution_count": 4,
     "metadata": {},
     "output_type": "execute_result"
    },
    {
     "data": {
      "text/plain": "<Figure size 400x400 with 1 Axes>",
      "image/png": "[encoded data removed]"
     },
     "metadata": {},
     "output_type": "display_data"
    }
   ],
   "source": [
    "%matplotlib inline\n",
    "import matplotlib.pyplot as plt\n",
    "laptop_pricing.hist(bins=100, figsize=(4, 4))"
   ],
   "metadata": {
    "collapsed": false,
    "ExecuteTime": {
     "start_time": "2023-10-12T13:14:05.152143Z",
     "end_time": "2023-10-12T13:14:06.460182Z"
    }
   }
  },
  {
   "cell_type": "code",
   "execution_count": 5,
   "outputs": [],
   "source": [
    "import numpy as np\n",
    "\n",
    "def split_training_data(data, test_ratio):\n",
    "    shuffled_indices = np.random.permutation(len(data))\n",
    "    test_set_size = int(len(data)*test_ratio)\n",
    "    test_indices = shuffled_indices[:test_set_size]\n",
    "    train_indices = shuffled_indices[test_set_size:]\n",
    "    return data.iloc[train_indices], data.iloc[test_indices]"
   ],
   "metadata": {
    "collapsed": false,
    "ExecuteTime": {
     "start_time": "2023-10-12T13:14:06.466184Z",
     "end_time": "2023-10-12T13:14:06.472596Z"
    }
   }
  },
  {
   "cell_type": "code",
   "execution_count": 6,
   "outputs": [],
   "source": [
    "train_set, test_set = split_training_data(laptop_pricing, 0.2)"
   ],
   "metadata": {
    "collapsed": false,
    "ExecuteTime": {
     "start_time": "2023-10-12T13:14:06.473595Z",
     "end_time": "2023-10-12T13:14:06.565185Z"
    }
   }
  },
  {
   "cell_type": "code",
   "execution_count": 7,
   "outputs": [
    {
     "name": "stdout",
     "output_type": "stream",
     "text": [
      "782\n",
      "195\n"
     ]
    }
   ],
   "source": [
    "print(len(train_set))\n",
    "print(len(test_set))"
   ],
   "metadata": {
    "collapsed": false,
    "ExecuteTime": {
     "start_time": "2023-10-12T13:14:06.488048Z",
     "end_time": "2023-10-12T13:14:06.566193Z"
    }
   }
  },
  {
   "cell_type": "code",
   "execution_count": 8,
   "outputs": [
    {
     "name": "stdout",
     "output_type": "stream",
     "text": [
      "     Manufacturer  Model Name  Category  Screen Size  Screen    CPU    RAM  \\\n",
      "0           False       False     False        False   False  False  False   \n",
      "1           False       False     False        False   False  False  False   \n",
      "2           False       False     False        False   False  False  False   \n",
      "3           False       False     False        False   False  False  False   \n",
      "4           False       False     False        False   False  False  False   \n",
      "..            ...         ...       ...          ...     ...    ...    ...   \n",
      "972         False       False     False        False   False  False  False   \n",
      "973         False       False     False        False   False  False  False   \n",
      "974         False       False     False        False   False  False  False   \n",
      "975         False       False     False        False   False  False  False   \n",
      "976         False       False     False        False   False  False  False   \n",
      "\n",
      "     Storage    GPU  Operating System  Operating System Version  Weight  Price  \n",
      "0      False  False             False                      True   False  False  \n",
      "1      False  False             False                      True   False  False  \n",
      "2      False  False             False                      True   False  False  \n",
      "3      False  False             False                      True   False  False  \n",
      "4      False  False             False                      True   False  False  \n",
      "..       ...    ...               ...                       ...     ...    ...  \n",
      "972    False  False             False                     False   False  False  \n",
      "973    False  False             False                     False   False  False  \n",
      "974    False  False             False                     False   False  False  \n",
      "975    False  False             False                     False   False  False  \n",
      "976    False  False             False                     False   False  False  \n",
      "\n",
      "[977 rows x 13 columns]\n"
     ]
    }
   ],
   "source": [
    "missing_data = laptop_pricing.isnull()\n",
    "print(missing_data)"
   ],
   "metadata": {
    "collapsed": false,
    "ExecuteTime": {
     "start_time": "2023-10-12T13:14:06.499266Z",
     "end_time": "2023-10-12T13:14:06.566193Z"
    }
   }
  },
  {
   "cell_type": "code",
   "execution_count": 9,
   "outputs": [
    {
     "name": "stdout",
     "output_type": "stream",
     "text": [
      "Index(['Manufacturer', 'Model Name', 'Category', 'Screen Size', 'Screen',\n",
      "       'CPU', 'RAM', 'Storage', 'GPU', 'Operating System',\n",
      "       'Operating System Version', 'Weight', 'Price'],\n",
      "      dtype='object')\n"
     ]
    }
   ],
   "source": [
    "missing_count = missing_data.sum()\n",
    "print(laptop_pricing.columns)"
   ],
   "metadata": {
    "collapsed": false,
    "ExecuteTime": {
     "start_time": "2023-10-12T13:14:06.514093Z",
     "end_time": "2023-10-12T13:14:06.567703Z"
    }
   }
  },
  {
   "cell_type": "code",
   "execution_count": 10,
   "outputs": [],
   "source": [
    "columns_to_delete = [\"Operating System\",\"Operating System Version\" ];\n",
    "laptop_pricing.drop(columns=columns_to_delete, inplace=True)"
   ],
   "metadata": {
    "collapsed": false,
    "ExecuteTime": {
     "start_time": "2023-10-12T13:14:06.522410Z",
     "end_time": "2023-10-12T13:14:06.567703Z"
    }
   }
  },
  {
   "cell_type": "code",
   "execution_count": 11,
   "outputs": [
    {
     "name": "stdout",
     "output_type": "stream",
     "text": [
      "<class 'pandas.core.frame.DataFrame'>\n",
      "RangeIndex: 977 entries, 0 to 976\n",
      "Data columns (total 11 columns):\n",
      " #   Column        Non-Null Count  Dtype  \n",
      "---  ------        --------------  -----  \n",
      " 0   Manufacturer  977 non-null    object \n",
      " 1   Model Name    977 non-null    object \n",
      " 2   Category      977 non-null    object \n",
      " 3   Screen Size   977 non-null    object \n",
      " 4   Screen        977 non-null    object \n",
      " 5   CPU           977 non-null    object \n",
      " 6   RAM           977 non-null    object \n",
      " 7   Storage       977 non-null    object \n",
      " 8   GPU           977 non-null    object \n",
      " 9   Weight        977 non-null    object \n",
      " 10  Price         977 non-null    float64\n",
      "dtypes: float64(1), object(10)\n",
      "memory usage: 84.1+ KB\n"
     ]
    }
   ],
   "source": [
    "laptop_pricing.info()"
   ],
   "metadata": {
    "collapsed": false,
    "ExecuteTime": {
     "start_time": "2023-10-12T13:14:06.534769Z",
     "end_time": "2023-10-12T13:14:06.567703Z"
    }
   }
  },
  {
   "cell_type": "code",
   "execution_count": 17,
   "outputs": [],
   "source": [
    "from zlib import crc32\n",
    "\n",
    "def test_set_check(identifier, test_ratio):\n",
    "    return crc32(np.int64(identifier))&0xffffffff<test_ratio*2**32\n",
    "\n",
    "def split_train_test_by_id(data, test_ratio, id_column):\n",
    "    ids = data[id_column]\n",
    "    in_test_set = ids.apply(lambda id_: test_set_check(id_, test_ratio))\n",
    "    return data.loc[~in_test_set], data.loc[in_test_set]\n",
    "\n",
    "laptops_with_id= laptop_pricing.reset_index()\n",
    "train_set, test_set = split_train_test_by_id(laptops_with_id, 0.2, 'index')"
   ],
   "metadata": {
    "collapsed": false,
    "ExecuteTime": {
     "start_time": "2023-10-12T13:57:36.573023Z",
     "end_time": "2023-10-12T13:57:36.612697Z"
    }
   }
  },
  {
   "cell_type": "code",
   "execution_count": 16,
   "outputs": [
    {
     "name": "stdout",
     "output_type": "stream",
     "text": [
      "<class 'pandas.core.frame.DataFrame'>\n",
      "RangeIndex: 977 entries, 0 to 976\n",
      "Data columns (total 12 columns):\n",
      " #   Column        Non-Null Count  Dtype  \n",
      "---  ------        --------------  -----  \n",
      " 0   index         977 non-null    int64  \n",
      " 1   Manufacturer  977 non-null    object \n",
      " 2   Model Name    977 non-null    object \n",
      " 3   Category      977 non-null    object \n",
      " 4   Screen Size   977 non-null    object \n",
      " 5   Screen        977 non-null    object \n",
      " 6   CPU           977 non-null    object \n",
      " 7   RAM           977 non-null    object \n",
      " 8   Storage       977 non-null    object \n",
      " 9   GPU           977 non-null    object \n",
      " 10  Weight        977 non-null    object \n",
      " 11  Price         977 non-null    float64\n",
      "dtypes: float64(1), int64(1), object(10)\n",
      "memory usage: 91.7+ KB\n"
     ]
    }
   ],
   "source": [
    "\n",
    "laptops_with_id.info()"
   ],
   "metadata": {
    "collapsed": false,
    "ExecuteTime": {
     "start_time": "2023-10-12T13:50:36.442978Z",
     "end_time": "2023-10-12T13:50:36.533184Z"
    }
   }
  },
  {
   "cell_type": "code",
   "execution_count": 18,
   "outputs": [
    {
     "data": {
      "text/plain": "    index Manufacturer       Model Name   Category Screen Size  \\\n0       0        Apple      MacBook Pro  Ultrabook       13.3\"   \n1       1        Apple      Macbook Air  Ultrabook       13.3\"   \n2       2           HP           250 G6   Notebook       15.6\"   \n3       3        Apple      MacBook Pro  Ultrabook       15.4\"   \n4       4        Apple      MacBook Pro  Ultrabook       13.3\"   \n5       5         Acer         Aspire 3   Notebook       15.6\"   \n6       6        Apple      MacBook Pro  Ultrabook       15.4\"   \n7       7        Apple      Macbook Air  Ultrabook       13.3\"   \n8       8         Asus  ZenBook UX430UN  Ultrabook       14.0\"   \n9       9         Acer          Swift 3  Ultrabook       14.0\"   \n10     10           HP           250 G6   Notebook       15.6\"   \n11     11           HP           250 G6   Notebook       15.6\"   \n\n                                Screen                         CPU   RAM  \\\n0   IPS Panel Retina Display 2560x1600        Intel Core i5 2.3GHz   8GB   \n1                             1440x900        Intel Core i5 1.8GHz   8GB   \n2                    Full HD 1920x1080  Intel Core i5 7200U 2.5GHz   8GB   \n3   IPS Panel Retina Display 2880x1800        Intel Core i7 2.7GHz  16GB   \n4   IPS Panel Retina Display 2560x1600        Intel Core i5 3.1GHz   8GB   \n5                             1366x768     AMD A9-Series 9420 3GHz   4GB   \n6   IPS Panel Retina Display 2880x1800        Intel Core i7 2.2GHz  16GB   \n7                             1440x900        Intel Core i5 1.8GHz   8GB   \n8                    Full HD 1920x1080  Intel Core i7 8550U 1.8GHz  16GB   \n9          IPS Panel Full HD 1920x1080  Intel Core i5 8250U 1.6GHz   8GB   \n10                            1366x768  Intel Core i5 7200U 2.5GHz   4GB   \n11                   Full HD 1920x1080    Intel Core i3 6006U 2GHz   4GB   \n\n                Storage                           GPU  Weight        Price  \n0             128GB SSD  Intel Iris Plus Graphics 640  1.37kg  11912523.48  \n1   128GB Flash Storage        Intel HD Graphics 6000  1.34kg   7993374.48  \n2             256GB SSD         Intel HD Graphics 620  1.86kg   5112900.00  \n3             512GB SSD            AMD Radeon Pro 455  1.83kg  22563005.40  \n4             256GB SSD  Intel Iris Plus Graphics 650  1.37kg  16037611.20  \n5             500GB HDD                 AMD Radeon R5   2.1kg   3556800.00  \n6   256GB Flash Storage       Intel Iris Pro Graphics  2.04kg  19028613.24  \n7   256GB Flash Storage        Intel HD Graphics 6000  1.34kg  10303160.40  \n8             512GB SSD          Nvidia GeForce MX150   1.3kg  13293540.00  \n9             256GB SSD        Intel UHD Graphics 620   1.6kg   6846840.00  \n10            500GB HDD         Intel HD Graphics 620  1.86kg   3502558.80  \n11            500GB HDD         Intel HD Graphics 520  1.86kg   3067651.08  ",
      "text/html": "<div>\n<style scoped>\n    .dataframe tbody tr th:only-of-type {\n        vertical-align: middle;\n    }\n\n    .dataframe tbody tr th {\n        vertical-align: top;\n    }\n\n    .dataframe thead th {\n        text-align: right;\n    }\n</style>\n<table border=\"1\" class=\"dataframe\">\n  <thead>\n    <tr style=\"text-align: right;\">\n      <th></th>\n      <th>index</th>\n      <th>Manufacturer</th>\n      <th>Model Name</th>\n      <th>Category</th>\n      <th>Screen Size</th>\n      <th>Screen</th>\n      <th>CPU</th>\n      <th>RAM</th>\n      <th>Storage</th>\n      <th>GPU</th>\n      <th>Weight</th>\n      <th>Price</th>\n    </tr>\n  </thead>\n  <tbody>\n    <tr>\n      <th>0</th>\n      <td>0</td>\n      <td>Apple</td>\n      <td>MacBook Pro</td>\n      <td>Ultrabook</td>\n      <td>13.3\"</td>\n      <td>IPS Panel Retina Display 2560x1600</td>\n      <td>Intel Core i5 2.3GHz</td>\n      <td>8GB</td>\n      <td>128GB SSD</td>\n      <td>Intel Iris Plus Graphics 640</td>\n      <td>1.37kg</td>\n      <td>11912523.48</td>\n    </tr>\n    <tr>\n      <th>1</th>\n      <td>1</td>\n      <td>Apple</td>\n      <td>Macbook Air</td>\n      <td>Ultrabook</td>\n      <td>13.3\"</td>\n      <td>1440x900</td>\n      <td>Intel Core i5 1.8GHz</td>\n      <td>8GB</td>\n      <td>128GB Flash Storage</td>\n      <td>Intel HD Graphics 6000</td>\n      <td>1.34kg</td>\n      <td>7993374.48</td>\n    </tr>\n    <tr>\n      <th>2</th>\n      <td>2</td>\n      <td>HP</td>\n      <td>250 G6</td>\n      <td>Notebook</td>\n      <td>15.6\"</td>\n      <td>Full HD 1920x1080</td>\n      <td>Intel Core i5 7200U 2.5GHz</td>\n      <td>8GB</td>\n      <td>256GB SSD</td>\n      <td>Intel HD Graphics 620</td>\n      <td>1.86kg</td>\n      <td>5112900.00</td>\n    </tr>\n    <tr>\n      <th>3</th>\n      <td>3</td>\n      <td>Apple</td>\n      <td>MacBook Pro</td>\n      <td>Ultrabook</td>\n      <td>15.4\"</td>\n      <td>IPS Panel Retina Display 2880x1800</td>\n      <td>Intel Core i7 2.7GHz</td>\n      <td>16GB</td>\n      <td>512GB SSD</td>\n      <td>AMD Radeon Pro 455</td>\n      <td>1.83kg</td>\n      <td>22563005.40</td>\n    </tr>\n    <tr>\n      <th>4</th>\n      <td>4</td>\n      <td>Apple</td>\n      <td>MacBook Pro</td>\n      <td>Ultrabook</td>\n      <td>13.3\"</td>\n      <td>IPS Panel Retina Display 2560x1600</td>\n      <td>Intel Core i5 3.1GHz</td>\n      <td>8GB</td>\n      <td>256GB SSD</td>\n      <td>Intel Iris Plus Graphics 650</td>\n      <td>1.37kg</td>\n      <td>16037611.20</td>\n    </tr>\n    <tr>\n      <th>5</th>\n      <td>5</td>\n      <td>Acer</td>\n      <td>Aspire 3</td>\n      <td>Notebook</td>\n      <td>15.6\"</td>\n      <td>1366x768</td>\n      <td>AMD A9-Series 9420 3GHz</td>\n      <td>4GB</td>\n      <td>500GB HDD</td>\n      <td>AMD Radeon R5</td>\n      <td>2.1kg</td>\n      <td>3556800.00</td>\n    </tr>\n    <tr>\n      <th>6</th>\n      <td>6</td>\n      <td>Apple</td>\n      <td>MacBook Pro</td>\n      <td>Ultrabook</td>\n      <td>15.4\"</td>\n      <td>IPS Panel Retina Display 2880x1800</td>\n      <td>Intel Core i7 2.2GHz</td>\n      <td>16GB</td>\n      <td>256GB Flash Storage</td>\n      <td>Intel Iris Pro Graphics</td>\n      <td>2.04kg</td>\n      <td>19028613.24</td>\n    </tr>\n    <tr>\n      <th>7</th>\n      <td>7</td>\n      <td>Apple</td>\n      <td>Macbook Air</td>\n      <td>Ultrabook</td>\n      <td>13.3\"</td>\n      <td>1440x900</td>\n      <td>Intel Core i5 1.8GHz</td>\n      <td>8GB</td>\n      <td>256GB Flash Storage</td>\n      <td>Intel HD Graphics 6000</td>\n      <td>1.34kg</td>\n      <td>10303160.40</td>\n    </tr>\n    <tr>\n      <th>8</th>\n      <td>8</td>\n      <td>Asus</td>\n      <td>ZenBook UX430UN</td>\n      <td>Ultrabook</td>\n      <td>14.0\"</td>\n      <td>Full HD 1920x1080</td>\n      <td>Intel Core i7 8550U 1.8GHz</td>\n      <td>16GB</td>\n      <td>512GB SSD</td>\n      <td>Nvidia GeForce MX150</td>\n      <td>1.3kg</td>\n      <td>13293540.00</td>\n    </tr>\n    <tr>\n      <th>9</th>\n      <td>9</td>\n      <td>Acer</td>\n      <td>Swift 3</td>\n      <td>Ultrabook</td>\n      <td>14.0\"</td>\n      <td>IPS Panel Full HD 1920x1080</td>\n      <td>Intel Core i5 8250U 1.6GHz</td>\n      <td>8GB</td>\n      <td>256GB SSD</td>\n      <td>Intel UHD Graphics 620</td>\n      <td>1.6kg</td>\n      <td>6846840.00</td>\n    </tr>\n    <tr>\n      <th>10</th>\n      <td>10</td>\n      <td>HP</td>\n      <td>250 G6</td>\n      <td>Notebook</td>\n      <td>15.6\"</td>\n      <td>1366x768</td>\n      <td>Intel Core i5 7200U 2.5GHz</td>\n      <td>4GB</td>\n      <td>500GB HDD</td>\n      <td>Intel HD Graphics 620</td>\n      <td>1.86kg</td>\n      <td>3502558.80</td>\n    </tr>\n    <tr>\n      <th>11</th>\n      <td>11</td>\n      <td>HP</td>\n      <td>250 G6</td>\n      <td>Notebook</td>\n      <td>15.6\"</td>\n      <td>Full HD 1920x1080</td>\n      <td>Intel Core i3 6006U 2GHz</td>\n      <td>4GB</td>\n      <td>500GB HDD</td>\n      <td>Intel HD Graphics 520</td>\n      <td>1.86kg</td>\n      <td>3067651.08</td>\n    </tr>\n  </tbody>\n</table>\n</div>"
     },
     "execution_count": 18,
     "metadata": {},
     "output_type": "execute_result"
    }
   ],
   "source": [
    "laptops_with_id.head(12)"
   ],
   "metadata": {
    "collapsed": false,
    "ExecuteTime": {
     "start_time": "2023-10-12T13:59:15.408668Z",
     "end_time": "2023-10-12T13:59:15.453766Z"
    }
   }
  },
  {
   "cell_type": "code",
   "execution_count": 20,
   "outputs": [],
   "source": [
    "from sklearn.model_selection import train_test_split\n",
    "train_set, test_set = train_test_split(laptop_pricing, test_size=0.2, random_state=42)"
   ],
   "metadata": {
    "collapsed": false,
    "ExecuteTime": {
     "start_time": "2023-10-12T14:19:33.100332Z",
     "end_time": "2023-10-12T14:19:33.114983Z"
    }
   }
  },
  {
   "cell_type": "code",
   "execution_count": null,
   "outputs": [],
   "source": [],
   "metadata": {
    "collapsed": false
   }
  }
 ],
 "metadata": {
  "kernelspec": {
   "display_name": "Python 3",
   "language": "python",
   "name": "python3"
  },
  "language_info": {
   "codemirror_mode": {
    "name": "ipython",
    "version": 2
   },
   "file_extension": ".py",
   "mimetype": "text/x-python",
   "name": "python",
   "nbconvert_exporter": "python",
   "pygments_lexer": "ipython2",
   "version": "2.7.6"
  }
 },
 "nbformat": 4,
 "nbformat_minor": 0
}
